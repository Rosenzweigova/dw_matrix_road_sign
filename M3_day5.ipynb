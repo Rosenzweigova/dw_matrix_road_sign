{
  "nbformat": 4,
  "nbformat_minor": 0,
  "metadata": {
    "colab": {
      "name": "M3_day5.ipynb",
      "provenance": [],
      "collapsed_sections": [],
      "include_colab_link": true
    },
    "kernelspec": {
      "name": "python3",
      "display_name": "Python 3"
    },
    "accelerator": "GPU"
  },
  "cells": [
    {
      "cell_type": "markdown",
      "metadata": {
        "id": "view-in-github",
        "colab_type": "text"
      },
      "source": [
        "<a href=\"https://colab.research.google.com/github/Rosenzweigova/dw_matrix_road_sign/blob/master/M3_day5.ipynb\" target=\"_parent\"><img src=\"https://colab.research.google.com/assets/colab-badge.svg\" alt=\"Open In Colab\"/></a>"
      ]
    },
    {
      "cell_type": "code",
      "metadata": {
        "id": "pA6iGMPoc_96",
        "colab_type": "code",
        "colab": {
          "base_uri": "https://localhost:8080/",
          "height": 179
        },
        "outputId": "d3c92d2d-5e8d-43b5-ff8a-03e72ee7fbb8"
      },
      "source": [
        "!pip install hyperopt"
      ],
      "execution_count": 7,
      "outputs": [
        {
          "output_type": "stream",
          "text": [
            "Requirement already satisfied: hyperopt in /usr/local/lib/python3.6/dist-packages (0.1.2)\n",
            "Requirement already satisfied: future in /usr/local/lib/python3.6/dist-packages (from hyperopt) (0.16.0)\n",
            "Requirement already satisfied: numpy in /usr/local/lib/python3.6/dist-packages (from hyperopt) (1.18.2)\n",
            "Requirement already satisfied: six in /usr/local/lib/python3.6/dist-packages (from hyperopt) (1.12.0)\n",
            "Requirement already satisfied: tqdm in /usr/local/lib/python3.6/dist-packages (from hyperopt) (4.38.0)\n",
            "Requirement already satisfied: pymongo in /usr/local/lib/python3.6/dist-packages (from hyperopt) (3.10.1)\n",
            "Requirement already satisfied: scipy in /usr/local/lib/python3.6/dist-packages (from hyperopt) (1.4.1)\n",
            "Requirement already satisfied: networkx in /usr/local/lib/python3.6/dist-packages (from hyperopt) (2.4)\n",
            "Requirement already satisfied: decorator>=4.3.0 in /usr/local/lib/python3.6/dist-packages (from networkx->hyperopt) (4.4.2)\n"
          ],
          "name": "stdout"
        }
      ]
    },
    {
      "cell_type": "code",
      "metadata": {
        "id": "TTXwlMvTdBy0",
        "colab_type": "code",
        "colab": {
          "base_uri": "https://localhost:8080/",
          "height": 53
        },
        "outputId": "7504b583-9c56-4720-d0d0-edec149b8147"
      },
      "source": [
        "import pandas as pd\n",
        "import numpy as np\n",
        "\n",
        "import os\n",
        "import datetime\n",
        "\n",
        "import matplotlib.pyplot as plt\n",
        "from skimage import color, exposure\n",
        "\n",
        "import tensorflow as tf\n",
        "from tensorflow.keras.models import Sequential\n",
        "from tensorflow.keras.layers import Conv2D, MaxPool2D, Dense, Flatten, Dropout\n",
        "from tensorflow.keras.utils import to_categorical\n",
        "from tqdm import tqdm\n",
        "\n",
        "%load_ext tensorboard\n",
        "\n",
        "from sklearn.metrics import accuracy_score\n",
        "from hyperopt import hp, STATUS_OK, tpe, Trials, fmin"
      ],
      "execution_count": 21,
      "outputs": [
        {
          "output_type": "stream",
          "text": [
            "The tensorboard extension is already loaded. To reload it, use:\n",
            "  %reload_ext tensorboard\n"
          ],
          "name": "stdout"
        }
      ]
    },
    {
      "cell_type": "code",
      "metadata": {
        "id": "XoyJin1Pda6R",
        "colab_type": "code",
        "colab": {
          "base_uri": "https://localhost:8080/",
          "height": 127
        },
        "outputId": "1fd4a3cf-96d6-485f-e8a5-2d5d3f7d0924"
      },
      "source": [
        "from google.colab import drive\n",
        "drive.mount('/content/drive')"
      ],
      "execution_count": 3,
      "outputs": [
        {
          "output_type": "stream",
          "text": [
            "Go to this URL in a browser: https://accounts.google.com/o/oauth2/auth?client_id=947318989803-6bn6qk8qdgf4n4g3pfee6491hc0brc4i.apps.googleusercontent.com&redirect_uri=urn%3aietf%3awg%3aoauth%3a2.0%3aoob&response_type=code&scope=email%20https%3a%2f%2fwww.googleapis.com%2fauth%2fdocs.test%20https%3a%2f%2fwww.googleapis.com%2fauth%2fdrive%20https%3a%2f%2fwww.googleapis.com%2fauth%2fdrive.photos.readonly%20https%3a%2f%2fwww.googleapis.com%2fauth%2fpeopleapi.readonly\n",
            "\n",
            "Enter your authorization code:\n",
            "··········\n",
            "Mounted at /content/drive\n"
          ],
          "name": "stdout"
        }
      ]
    },
    {
      "cell_type": "code",
      "metadata": {
        "id": "ypWwsi6TdOzg",
        "colab_type": "code",
        "colab": {
          "base_uri": "https://localhost:8080/",
          "height": 35
        },
        "outputId": "c295894d-2b51-4752-dac7-ed3d1ce91906"
      },
      "source": [
        "cd '/content/drive/My Drive/Colab Notebooks/matrix/matrix_three/dw_matrix_road_sign'"
      ],
      "execution_count": 4,
      "outputs": [
        {
          "output_type": "stream",
          "text": [
            "/content/drive/My Drive/Colab Notebooks/matrix/matrix_three/dw_matrix_road_sign\n"
          ],
          "name": "stdout"
        }
      ]
    },
    {
      "cell_type": "code",
      "metadata": {
        "id": "eBrkkuWRdSQc",
        "colab_type": "code",
        "colab": {}
      },
      "source": [
        "# Ładujemy dane\n",
        "train = pd.read_pickle('data/train.p')\n",
        "test = pd.read_pickle('data/test.p')\n",
        "\n",
        "X_train, y_train = train['features'], train['labels']\n",
        "X_test, y_test = test['features'], test['labels']"
      ],
      "execution_count": 0,
      "outputs": []
    },
    {
      "cell_type": "code",
      "metadata": {
        "id": "zK0_pAoYdok5",
        "colab_type": "code",
        "colab": {}
      },
      "source": [
        "if y_train.ndim == 1: y_train = to_categorical(y_train)\n",
        "if y_test.ndim == 1:y_test = to_categorical(y_test)"
      ],
      "execution_count": 0,
      "outputs": []
    },
    {
      "cell_type": "code",
      "metadata": {
        "id": "ALxtWKred85k",
        "colab_type": "code",
        "colab": {}
      },
      "source": [
        "input_shape = X_train.shape[1:]\n",
        "num_classes = y_train.shape[1]"
      ],
      "execution_count": 0,
      "outputs": []
    },
    {
      "cell_type": "code",
      "metadata": {
        "id": "qeMgf19zeGfR",
        "colab_type": "code",
        "colab": {}
      },
      "source": [
        "# Trenowanie modelu\n",
        "def train_model(model, X_train, y_train, params_fit={}):\n",
        "  model.compile(loss='categorical_crossentropy', optimizer='Adam', metrics = ['accuracy'])\n",
        "\n",
        "\n",
        "  logdir = os.path.join(\"logs\", datetime.datetime.now().strftime(\"%Y%m%d-%H%M%S\"))\n",
        "  tensorboard_callback = tf.keras.callbacks.TensorBoard(logdir, histogram_freq=1)\n",
        "\n",
        "  model.fit(\n",
        "      X_train, \n",
        "      y_train,\n",
        "      batch_size = params_fit.get('batch_size', 128),\n",
        "      epochs = params_fit.get('epochs', 5),\n",
        "      verbose = params_fit.get('verbose', 1),\n",
        "      validation_data = params_fit.get('validation_data', (X_train, y_train)),\n",
        "      callbacks = [tensorboard_callback]\n",
        "  )\n",
        "  return model"
      ],
      "execution_count": 0,
      "outputs": []
    },
    {
      "cell_type": "code",
      "metadata": {
        "id": "hJcE6fA9eQcw",
        "colab_type": "code",
        "colab": {}
      },
      "source": [
        "def predict(model_trained, X_test, y_test, scoring=accuracy_score):\n",
        "\n",
        "  # Normalizujemy macierz y_test\n",
        "  y_test_norm = np.argmax(y_test, axis=1)\n",
        "\n",
        "  y_pred_prob = model_trained.predict(X_test)\n",
        "  y_pred = np.argmax(y_pred_prob, axis=1)\n",
        "\n",
        "  return scoring(y_test_norm, y_pred)"
      ],
      "execution_count": 0,
      "outputs": []
    },
    {
      "cell_type": "code",
      "metadata": {
        "id": "hC7YGZp1eWDJ",
        "colab_type": "code",
        "colab": {}
      },
      "source": [
        "def get_cnn_v6(input_shape, num_classes):\n",
        "    return Sequential([\n",
        "        # Podwajamy liczbę filtrów                                      \n",
        "        Conv2D(filters=32, kernel_size=(3,3), activation='relu', input_shape = input_shape),\n",
        "        Conv2D(filters=32, kernel_size=(3,3), activation='relu', padding='same'),\n",
        "        MaxPool2D(),\n",
        "        Dropout(0.3), # powoduje że model się nie przyucza\n",
        "\n",
        "        Conv2D(filters=64, kernel_size=(3,3), activation='relu', padding='same'),\n",
        "        Conv2D(filters=64, kernel_size=(3,3), activation='relu'),\n",
        "        MaxPool2D(),  \n",
        "        Dropout(0.3),    \n",
        "\n",
        "        Conv2D(filters=64, kernel_size=(3,3), activation='relu', padding='same'),\n",
        "        Conv2D(filters=64, kernel_size=(3,3), activation='relu'),\n",
        "        MaxPool2D(),  \n",
        "        Dropout(0.3),            \n",
        "\n",
        "        Flatten(),\n",
        "\n",
        "        Dense(1024, activation = 'relu'), \n",
        "        Dropout(0.3),\n",
        "\n",
        "        Dense(1024, activation = 'relu'), \n",
        "        Dropout(0.3),\n",
        "\n",
        "        Dense(num_classes, activation = 'softmax'),         \n",
        "    ])"
      ],
      "execution_count": 0,
      "outputs": []
    },
    {
      "cell_type": "code",
      "metadata": {
        "id": "rX8jmYd5ezX5",
        "colab_type": "code",
        "colab": {
          "base_uri": "https://localhost:8080/",
          "height": 215
        },
        "outputId": "43683929-45f4-4ffc-bbba-5e12c05afd68"
      },
      "source": [
        "# Uruchomienie\n",
        "\n",
        "model = get_cnn_v6(input_shape, num_classes)\n",
        "model_trained = train_model(model, X_train, y_train)\n",
        "\n",
        "predict(model_trained, X_test, y_test)"
      ],
      "execution_count": 15,
      "outputs": [
        {
          "output_type": "stream",
          "text": [
            "Epoch 1/5\n",
            "272/272 [==============================] - 5s 20ms/step - loss: 2.5020 - accuracy: 0.3058 - val_loss: 0.9543 - val_accuracy: 0.7109\n",
            "Epoch 2/5\n",
            "272/272 [==============================] - 5s 18ms/step - loss: 0.8422 - accuracy: 0.7235 - val_loss: 0.2747 - val_accuracy: 0.9065\n",
            "Epoch 3/5\n",
            "272/272 [==============================] - 5s 18ms/step - loss: 0.4054 - accuracy: 0.8709 - val_loss: 0.1225 - val_accuracy: 0.9614\n",
            "Epoch 4/5\n",
            "272/272 [==============================] - 5s 18ms/step - loss: 0.2585 - accuracy: 0.9197 - val_loss: 0.0731 - val_accuracy: 0.9777\n",
            "Epoch 5/5\n",
            "272/272 [==============================] - 5s 17ms/step - loss: 0.2006 - accuracy: 0.9397 - val_loss: 0.0439 - val_accuracy: 0.9873\n"
          ],
          "name": "stdout"
        },
        {
          "output_type": "execute_result",
          "data": {
            "text/plain": [
              "0.9587301587301588"
            ]
          },
          "metadata": {
            "tags": []
          },
          "execution_count": 15
        }
      ]
    },
    {
      "cell_type": "code",
      "metadata": {
        "id": "Rk5fv1l8gBVq",
        "colab_type": "code",
        "colab": {
          "base_uri": "https://localhost:8080/",
          "height": 53
        },
        "outputId": "4afb13f1-dba1-4abe-cc9b-633754ed0b49"
      },
      "source": [
        "model_trained.evaluate(X_test, y_test)[0]"
      ],
      "execution_count": 17,
      "outputs": [
        {
          "output_type": "stream",
          "text": [
            "138/138 [==============================] - 0s 4ms/step - loss: 0.2575 - accuracy: 0.9587\n"
          ],
          "name": "stdout"
        },
        {
          "output_type": "execute_result",
          "data": {
            "text/plain": [
              "0.2575276494026184"
            ]
          },
          "metadata": {
            "tags": []
          },
          "execution_count": 17
        }
      ]
    },
    {
      "cell_type": "code",
      "metadata": {
        "id": "-M5CjWdsh2-N",
        "colab_type": "code",
        "colab": {}
      },
      "source": [
        "def get_model(params):\n",
        "    return Sequential([\n",
        "        # Podwajamy liczbę filtrów                                      \n",
        "        Conv2D(filters=32, kernel_size=(3,3), activation='relu', input_shape = input_shape),\n",
        "        Conv2D(filters=32, kernel_size=(3,3), activation='relu', padding='same'),\n",
        "        MaxPool2D(),\n",
        "        Dropout(params['dropout_cnn_block_one']), # powoduje że model się nie przyucza\n",
        "\n",
        "        Conv2D(filters=64, kernel_size=(3,3), activation='relu', padding='same'),\n",
        "        Conv2D(filters=64, kernel_size=(3,3), activation='relu'),\n",
        "        MaxPool2D(),  \n",
        "        Dropout(params['dropout_cnn_block_two']),    \n",
        "\n",
        "        Conv2D(filters=128, kernel_size=(3,3), activation='relu', padding='same'),\n",
        "        Conv2D(filters=128, kernel_size=(3,3), activation='relu'),\n",
        "        MaxPool2D(),  \n",
        "        Dropout(params['dropout_cnn_block_three']),            \n",
        "\n",
        "        Flatten(),\n",
        "\n",
        "        Dense(1024, activation = 'relu'), \n",
        "        Dropout(params['dropout_cnn_block_four']),\n",
        "\n",
        "        Dense(1024, activation = 'relu'), \n",
        "        Dropout(params['dropout_cnn_block_five']),\n",
        "\n",
        "        Dense(num_classes, activation = 'softmax'),         \n",
        "    ])"
      ],
      "execution_count": 0,
      "outputs": []
    },
    {
      "cell_type": "code",
      "metadata": {
        "id": "6HX2axJhfOkx",
        "colab_type": "code",
        "colab": {}
      },
      "source": [
        "# Przejmowanie parametrów\n",
        "\n",
        "def func_obj(params):\n",
        "  model = get_model(params)\n",
        "  model.compile(loss='categorical_crossentropy', optimizer='Adam', metrics = ['accuracy'])\n",
        "  \n",
        "  model.fit(\n",
        "      X_train, \n",
        "      y_train,\n",
        "      batch_size = int(params.get('batch_size', 128)),\n",
        "      epochs = 5,\n",
        "      verbose = 0,      \n",
        "  )\n",
        "  score = model.evaluate(X_test, y_test, verbose=0)\n",
        "  accuracy = score[1]\n",
        "  print(params, 'accuracy={}'.format(accuracy))\n",
        "\n",
        "  return {'loss': -accuracy, 'status': STATUS_OK, 'model': model}"
      ],
      "execution_count": 0,
      "outputs": []
    },
    {
      "cell_type": "code",
      "metadata": {
        "id": "60unzllpgoH2",
        "colab_type": "code",
        "colab": {
          "base_uri": "https://localhost:8080/",
          "height": 955
        },
        "outputId": "eced2efb-fbb6-4ad3-b6c3-621f610f37ea"
      },
      "source": [
        "space = {\n",
        "    'batch_size': hp.quniform('batch_size', 100, 200, 10),\n",
        "    'dropout_cnn_block_one': hp.uniform('dropout_cnn_block_one', 0.3, 0.6),\n",
        "    'dropout_cnn_block_two': hp.uniform('dropout_cnn_block_two', 0.3, 0.5),\n",
        "    'dropout_cnn_block_three': hp.uniform('dropout_cnn_block_three', 0.3, 0.5),\n",
        "\n",
        "    'dropout_cnn_block_four': hp.uniform('dropout_cnn_block_four', 0.3, 0.7),\n",
        "    'dropout_cnn_block_five': hp.uniform('dropout_cnn_block_five', 0.3, 0.7)\n",
        "}\n",
        "\n",
        "best = fmin(\n",
        "    func_obj,\n",
        "    space,\n",
        "    tpe.suggest,\n",
        "    25, # Ilość iteracji\n",
        "    Trials()\n",
        ")"
      ],
      "execution_count": 30,
      "outputs": [
        {
          "output_type": "stream",
          "text": [
            "{'batch_size': 170.0, 'dropout_cnn_block_five': 0.4127802222109502, 'dropout_cnn_block_four': 0.541284370622112, 'dropout_cnn_block_one': 0.3874707834496014, 'dropout_cnn_block_three': 0.499309609335972, 'dropout_cnn_block_two': 0.43757663665989355}\n",
            "accuracy=0.9510204195976257\n",
            "{'batch_size': 180.0, 'dropout_cnn_block_five': 0.5031665783917498, 'dropout_cnn_block_four': 0.628746354270574, 'dropout_cnn_block_one': 0.5500760103895184, 'dropout_cnn_block_three': 0.3422193254830394, 'dropout_cnn_block_two': 0.4093433100299225}\n",
            "accuracy=0.8514739274978638\n",
            "{'batch_size': 190.0, 'dropout_cnn_block_five': 0.4727336485218948, 'dropout_cnn_block_four': 0.4191828530435826, 'dropout_cnn_block_one': 0.4905554594742041, 'dropout_cnn_block_three': 0.3400640278374624, 'dropout_cnn_block_two': 0.3207831306976203}\n",
            "accuracy=0.8873015642166138\n",
            "{'batch_size': 130.0, 'dropout_cnn_block_five': 0.4785704991842679, 'dropout_cnn_block_four': 0.5283560931565373, 'dropout_cnn_block_one': 0.3629129505470078, 'dropout_cnn_block_three': 0.3472761975576818, 'dropout_cnn_block_two': 0.4294290484494685}\n",
            "accuracy=0.9526076912879944\n",
            "{'batch_size': 160.0, 'dropout_cnn_block_five': 0.5444758584343405, 'dropout_cnn_block_four': 0.3607422947822399, 'dropout_cnn_block_one': 0.3553435976760088, 'dropout_cnn_block_three': 0.46811782810501307, 'dropout_cnn_block_two': 0.3946628664656075}\n",
            "accuracy=0.9609977602958679\n",
            "{'batch_size': 120.0, 'dropout_cnn_block_five': 0.4925838112177717, 'dropout_cnn_block_four': 0.49308312374637076, 'dropout_cnn_block_one': 0.4063895229808735, 'dropout_cnn_block_three': 0.41587525378134055, 'dropout_cnn_block_two': 0.3237921179736896}\n",
            "accuracy=0.9693877696990967\n",
            "{'batch_size': 120.0, 'dropout_cnn_block_five': 0.6837546095987181, 'dropout_cnn_block_four': 0.37716098044081064, 'dropout_cnn_block_one': 0.4496603524298732, 'dropout_cnn_block_three': 0.37405009615839047, 'dropout_cnn_block_two': 0.497617531060353}\n",
            "accuracy=0.9015873074531555\n",
            "{'batch_size': 190.0, 'dropout_cnn_block_five': 0.42265084760423854, 'dropout_cnn_block_four': 0.6175779112892478, 'dropout_cnn_block_one': 0.5775314259305739, 'dropout_cnn_block_three': 0.3956197994869793, 'dropout_cnn_block_two': 0.4719109005669494}\n",
            "accuracy=0.6625850200653076\n",
            "{'batch_size': 180.0, 'dropout_cnn_block_five': 0.47500277584287043, 'dropout_cnn_block_four': 0.40781433701152553, 'dropout_cnn_block_one': 0.5487083117521186, 'dropout_cnn_block_three': 0.32296693975052837, 'dropout_cnn_block_two': 0.3146622859764912}\n",
            "accuracy=0.9235827922821045\n",
            "{'batch_size': 150.0, 'dropout_cnn_block_five': 0.5910451269571337, 'dropout_cnn_block_four': 0.5213417645096784, 'dropout_cnn_block_one': 0.3527182709943895, 'dropout_cnn_block_three': 0.4930979758092409, 'dropout_cnn_block_two': 0.42183109389767565}\n",
            "accuracy=0.8523809313774109\n",
            "{'batch_size': 190.0, 'dropout_cnn_block_five': 0.3849913285555153, 'dropout_cnn_block_four': 0.4750536345589049, 'dropout_cnn_block_one': 0.4864486246011813, 'dropout_cnn_block_three': 0.452182120744657, 'dropout_cnn_block_two': 0.3329235515998001}\n",
            "accuracy=0.9269841313362122\n",
            "{'batch_size': 150.0, 'dropout_cnn_block_five': 0.6185502680200033, 'dropout_cnn_block_four': 0.6289369831609661, 'dropout_cnn_block_one': 0.34888285107967243, 'dropout_cnn_block_three': 0.4674104761480966, 'dropout_cnn_block_two': 0.4747360102585966}\n",
            "accuracy=0.7603174448013306\n",
            "{'batch_size': 150.0, 'dropout_cnn_block_five': 0.5707490593143915, 'dropout_cnn_block_four': 0.514193432018033, 'dropout_cnn_block_one': 0.5440230849189253, 'dropout_cnn_block_three': 0.4662185651458599, 'dropout_cnn_block_two': 0.3936340591305697}\n",
            "accuracy=0.86099773645401\n",
            "{'batch_size': 120.0, 'dropout_cnn_block_five': 0.5597515453068496, 'dropout_cnn_block_four': 0.45540937151754873, 'dropout_cnn_block_one': 0.5956535690240913, 'dropout_cnn_block_three': 0.45963936019112717, 'dropout_cnn_block_two': 0.42566867217478455}\n",
            "accuracy=0.5879818797111511\n",
            "{'batch_size': 200.0, 'dropout_cnn_block_five': 0.6628360076227283, 'dropout_cnn_block_four': 0.6679069495276685, 'dropout_cnn_block_one': 0.3199963269283262, 'dropout_cnn_block_three': 0.45579751752519226, 'dropout_cnn_block_two': 0.4798157420879796}\n",
            "accuracy=0.8707482814788818\n",
            "{'batch_size': 160.0, 'dropout_cnn_block_five': 0.5518249852589283, 'dropout_cnn_block_four': 0.5937930384996537, 'dropout_cnn_block_one': 0.49041441272556086, 'dropout_cnn_block_three': 0.3747905748258178, 'dropout_cnn_block_two': 0.4144651891486893}\n",
            "accuracy=0.8954648375511169\n",
            "{'batch_size': 170.0, 'dropout_cnn_block_five': 0.35344943220604763, 'dropout_cnn_block_four': 0.46171331989224956, 'dropout_cnn_block_one': 0.4825093648983243, 'dropout_cnn_block_three': 0.4986770590594479, 'dropout_cnn_block_two': 0.45143567929357986}\n",
            "accuracy=0.8768707513809204\n",
            "{'batch_size': 180.0, 'dropout_cnn_block_five': 0.382405079969083, 'dropout_cnn_block_four': 0.3226519445378127, 'dropout_cnn_block_one': 0.476410010263953, 'dropout_cnn_block_three': 0.389318803481067, 'dropout_cnn_block_two': 0.45960493210195064}\n",
            "accuracy=0.9444444179534912\n",
            "{'batch_size': 160.0, 'dropout_cnn_block_five': 0.464142837009485, 'dropout_cnn_block_four': 0.6403747669966655, 'dropout_cnn_block_one': 0.46042898969690194, 'dropout_cnn_block_three': 0.4447255821967094, 'dropout_cnn_block_two': 0.3602731116935547}\n",
            "accuracy=0.9217687249183655\n",
            "{'batch_size': 110.0, 'dropout_cnn_block_five': 0.6232687079167094, 'dropout_cnn_block_four': 0.3448951618670681, 'dropout_cnn_block_one': 0.5090720869570807, 'dropout_cnn_block_three': 0.45134310125673194, 'dropout_cnn_block_two': 0.3540313654348556}\n",
            "accuracy=0.9351474046707153\n",
            "{'batch_size': 130.0, 'dropout_cnn_block_five': 0.5130465531325369, 'dropout_cnn_block_four': 0.30021064465084063, 'dropout_cnn_block_one': 0.41872632467641263, 'dropout_cnn_block_three': 0.42324263540191, 'dropout_cnn_block_two': 0.3869911105178869}\n",
            "accuracy=0.9437641501426697\n",
            "{'batch_size': 100.0, 'dropout_cnn_block_five': 0.5169454315902196, 'dropout_cnn_block_four': 0.5614508210109285, 'dropout_cnn_block_one': 0.40900054290324384, 'dropout_cnn_block_three': 0.4210095874230163, 'dropout_cnn_block_two': 0.30000914910539134}\n",
            "accuracy=0.9204081892967224\n",
            "{'batch_size': 140.0, 'dropout_cnn_block_five': 0.43264235214738817, 'dropout_cnn_block_four': 0.3810483513954259, 'dropout_cnn_block_one': 0.3051795172222971, 'dropout_cnn_block_three': 0.41977858449088473, 'dropout_cnn_block_two': 0.37106312337025327}\n",
            "accuracy=0.9725623726844788\n",
            "{'batch_size': 130.0, 'dropout_cnn_block_five': 0.3110580990987897, 'dropout_cnn_block_four': 0.41928685281077077, 'dropout_cnn_block_one': 0.3050709180272225, 'dropout_cnn_block_three': 0.428533880486747, 'dropout_cnn_block_two': 0.36542930762309456}\n",
            "accuracy=0.9653061032295227\n",
            "{'batch_size': 140.0, 'dropout_cnn_block_five': 0.30080740129740313, 'dropout_cnn_block_four': 0.4878313209682278, 'dropout_cnn_block_one': 0.31353993697881877, 'dropout_cnn_block_three': 0.4119734236170317, 'dropout_cnn_block_two': 0.3406448607945479}\n",
            "accuracy=0.96417236328125\n",
            "100%|██████████| 25/25 [06:41<00:00, 16.04s/it, best loss: -0.9725623726844788]\n"
          ],
          "name": "stdout"
        }
      ]
    },
    {
      "cell_type": "code",
      "metadata": {
        "id": "GGn5YWDXhToS",
        "colab_type": "code",
        "colab": {}
      },
      "source": [
        "def get_model2(params):\n",
        "    return Sequential([\n",
        "        # Podwajamy liczbę filtrów                                      \n",
        "        Conv2D(filters=32, kernel_size=(3,3), activation='relu', input_shape = input_shape),\n",
        "        Conv2D(filters=32, kernel_size=(3,3), activation='relu', padding='same'),\n",
        "        Conv2D(filters=32, kernel_size=(3,3), activation='relu', padding='same'),\n",
        "        MaxPool2D(),\n",
        "        Dropout(params['dropout_cnn_block_one']), # powoduje że model się nie przyucza\n",
        "\n",
        "        Conv2D(filters=64, kernel_size=(3,3), activation='relu', padding='same'),\n",
        "        Conv2D(filters=64, kernel_size=(3,3), activation='relu', padding='same'),\n",
        "        Conv2D(filters=64, kernel_size=(3,3), activation='relu'),\n",
        "        MaxPool2D(),  \n",
        "        Dropout(params['dropout_cnn_block_two']),    \n",
        "\n",
        "        Conv2D(filters=128, kernel_size=(3,3), activation='relu', padding='same'),\n",
        "        Conv2D(filters=128, kernel_size=(3,3), activation='relu', padding='same'),\n",
        "        Conv2D(filters=128, kernel_size=(3,3), activation='relu'),\n",
        "        MaxPool2D(),  \n",
        "        Dropout(params['dropout_cnn_block_three']),            \n",
        "\n",
        "        Flatten(),\n",
        "\n",
        "        Dense(1024, activation = 'relu'), \n",
        "        Dropout(params['dropout_cnn_block_four']),\n",
        "\n",
        "        Dense(1024, activation = 'relu'), \n",
        "        Dropout(params['dropout_cnn_block_five']),\n",
        "\n",
        "        Dense(num_classes, activation = 'softmax'),         \n",
        "    ])"
      ],
      "execution_count": 0,
      "outputs": []
    },
    {
      "cell_type": "code",
      "metadata": {
        "id": "62Nk7meLk3fg",
        "colab_type": "code",
        "colab": {}
      },
      "source": [
        "def func_obj2(params):\n",
        "  model = get_model2(params)\n",
        "  model.compile(loss='categorical_crossentropy', optimizer='Adam', metrics = ['accuracy'])\n",
        "  \n",
        "  model.fit(\n",
        "      X_train, \n",
        "      y_train,\n",
        "      batch_size = int(params.get('batch_size', 128)),\n",
        "      epochs = 5,\n",
        "      verbose = 0,      \n",
        "  )\n",
        "  score = model.evaluate(X_test, y_test, verbose=0)\n",
        "  accuracy = score[1]\n",
        "  print(params, 'accuracy={}'.format(accuracy))\n",
        "\n",
        "  return {'loss': -accuracy, 'status': STATUS_OK, 'model': model}"
      ],
      "execution_count": 0,
      "outputs": []
    },
    {
      "cell_type": "code",
      "metadata": {
        "id": "6FFapcUjnnRr",
        "colab_type": "code",
        "colab": {
          "base_uri": "https://localhost:8080/",
          "height": 1000
        },
        "outputId": "1fd113b0-f35e-442d-e990-f2ea6e1884c8"
      },
      "source": [
        "space = {\n",
        "    'batch_size': hp.quniform('batch_size', 100, 200, 10),\n",
        "    'dropout_cnn_block_one': hp.uniform('dropout_cnn_block_one', 0.3, 0.6),\n",
        "    'dropout_cnn_block_two': hp.uniform('dropout_cnn_block_two', 0.3, 0.5),\n",
        "    'dropout_cnn_block_three': hp.uniform('dropout_cnn_block_three', 0.3, 0.5),\n",
        "\n",
        "    'dropout_cnn_block_four': hp.uniform('dropout_cnn_block_four', 0.3, 0.7),\n",
        "    'dropout_cnn_block_five': hp.uniform('dropout_cnn_block_five', 0.3, 0.7)\n",
        "}\n",
        "\n",
        "best = fmin(\n",
        "    func_obj,\n",
        "    space,\n",
        "    tpe.suggest,\n",
        "    30, # Ilość iteracji\n",
        "    Trials()\n",
        ")"
      ],
      "execution_count": 34,
      "outputs": [
        {
          "output_type": "stream",
          "text": [
            "{'batch_size': 170.0, 'dropout_cnn_block_five': 0.390259189331945, 'dropout_cnn_block_four': 0.6213326003243385, 'dropout_cnn_block_one': 0.4073392859176802, 'dropout_cnn_block_three': 0.42972566461857337, 'dropout_cnn_block_two': 0.49393852497828744}\n",
            "accuracy=0.9507936239242554\n",
            "{'batch_size': 190.0, 'dropout_cnn_block_five': 0.32473480784069386, 'dropout_cnn_block_four': 0.36326641986023206, 'dropout_cnn_block_one': 0.4172728010197827, 'dropout_cnn_block_three': 0.40925071946713426, 'dropout_cnn_block_two': 0.44256890311382124}\n",
            "accuracy=0.9630385637283325\n",
            "{'batch_size': 130.0, 'dropout_cnn_block_five': 0.5535956454482072, 'dropout_cnn_block_four': 0.5366145082303109, 'dropout_cnn_block_one': 0.32116202150660594, 'dropout_cnn_block_three': 0.4331843891378503, 'dropout_cnn_block_two': 0.3956308432226063}\n",
            "accuracy=0.9594104290008545\n",
            "{'batch_size': 130.0, 'dropout_cnn_block_five': 0.4815739043066789, 'dropout_cnn_block_four': 0.3279106424049443, 'dropout_cnn_block_one': 0.3291487927368283, 'dropout_cnn_block_three': 0.35650270621879343, 'dropout_cnn_block_two': 0.456433905912109}\n",
            "accuracy=0.962358295917511\n",
            "{'batch_size': 170.0, 'dropout_cnn_block_five': 0.41878989026357205, 'dropout_cnn_block_four': 0.3614912900948039, 'dropout_cnn_block_one': 0.38123954961137874, 'dropout_cnn_block_three': 0.3671270391053202, 'dropout_cnn_block_two': 0.34859382726657273}\n",
            "accuracy=0.9625850319862366\n",
            "{'batch_size': 150.0, 'dropout_cnn_block_five': 0.32865362691750194, 'dropout_cnn_block_four': 0.3635275058511942, 'dropout_cnn_block_one': 0.3702364363558518, 'dropout_cnn_block_three': 0.3866300909953381, 'dropout_cnn_block_two': 0.4672792865654002}\n",
            "accuracy=0.9687075018882751\n",
            "{'batch_size': 110.0, 'dropout_cnn_block_five': 0.6023037684564021, 'dropout_cnn_block_four': 0.521049202805897, 'dropout_cnn_block_one': 0.45311015672244487, 'dropout_cnn_block_three': 0.45665605600977355, 'dropout_cnn_block_two': 0.46412533429175384}\n",
            "accuracy=0.9487528204917908\n",
            "{'batch_size': 180.0, 'dropout_cnn_block_five': 0.34741152821603183, 'dropout_cnn_block_four': 0.6629930661055077, 'dropout_cnn_block_one': 0.44189012630165825, 'dropout_cnn_block_three': 0.355615010322598, 'dropout_cnn_block_two': 0.32902240039595104}\n",
            "accuracy=0.9442176818847656\n",
            "{'batch_size': 120.0, 'dropout_cnn_block_five': 0.39153238510537247, 'dropout_cnn_block_four': 0.6859935774866726, 'dropout_cnn_block_one': 0.31266259356067577, 'dropout_cnn_block_three': 0.44924230178954755, 'dropout_cnn_block_two': 0.363974782614147}\n",
            "accuracy=0.9632652997970581\n",
            "{'batch_size': 120.0, 'dropout_cnn_block_five': 0.45645411854594564, 'dropout_cnn_block_four': 0.4120555501325483, 'dropout_cnn_block_one': 0.5250040209918287, 'dropout_cnn_block_three': 0.3103784491714845, 'dropout_cnn_block_two': 0.3398140073696688}\n",
            "accuracy=0.962358295917511\n",
            "{'batch_size': 130.0, 'dropout_cnn_block_five': 0.34073724254249993, 'dropout_cnn_block_four': 0.45533144019799376, 'dropout_cnn_block_one': 0.4605746108687503, 'dropout_cnn_block_three': 0.35102043876623273, 'dropout_cnn_block_two': 0.40752734475728786}\n",
            "accuracy=0.9489796161651611\n",
            "{'batch_size': 170.0, 'dropout_cnn_block_five': 0.6077049761013955, 'dropout_cnn_block_four': 0.4561962644526294, 'dropout_cnn_block_one': 0.4873457503501546, 'dropout_cnn_block_three': 0.36794476298395434, 'dropout_cnn_block_two': 0.4314836269928414}\n",
            "accuracy=0.9557822942733765\n",
            "{'batch_size': 120.0, 'dropout_cnn_block_five': 0.483242572002475, 'dropout_cnn_block_four': 0.39851200705437156, 'dropout_cnn_block_one': 0.33590158769218253, 'dropout_cnn_block_three': 0.3062977673557148, 'dropout_cnn_block_two': 0.4929124059158625}\n",
            "accuracy=0.9609977602958679\n",
            "{'batch_size': 150.0, 'dropout_cnn_block_five': 0.5642665443453048, 'dropout_cnn_block_four': 0.3015396918934283, 'dropout_cnn_block_one': 0.34561024851793587, 'dropout_cnn_block_three': 0.429397611977164, 'dropout_cnn_block_two': 0.3720221936782796}\n",
            "accuracy=0.9689342379570007\n",
            "{'batch_size': 110.0, 'dropout_cnn_block_five': 0.5054810968797575, 'dropout_cnn_block_four': 0.3994102656181831, 'dropout_cnn_block_one': 0.33548483450210587, 'dropout_cnn_block_three': 0.4134491829058829, 'dropout_cnn_block_two': 0.48263006043159395}\n",
            "accuracy=0.961904764175415\n",
            "{'batch_size': 100.0, 'dropout_cnn_block_five': 0.6388335376931431, 'dropout_cnn_block_four': 0.5097800594441065, 'dropout_cnn_block_one': 0.3225703256549078, 'dropout_cnn_block_three': 0.4714719024042301, 'dropout_cnn_block_two': 0.3231071935960442}\n",
            "accuracy=0.9750567078590393\n",
            "{'batch_size': 200.0, 'dropout_cnn_block_five': 0.5836423139758548, 'dropout_cnn_block_four': 0.4307213471200197, 'dropout_cnn_block_one': 0.4803302102820721, 'dropout_cnn_block_three': 0.4485692273934749, 'dropout_cnn_block_two': 0.47718557581524507}\n",
            "accuracy=0.9603174328804016\n",
            "{'batch_size': 140.0, 'dropout_cnn_block_five': 0.49743317797610387, 'dropout_cnn_block_four': 0.43479469257203435, 'dropout_cnn_block_one': 0.35954960469833386, 'dropout_cnn_block_three': 0.32183614048576853, 'dropout_cnn_block_two': 0.4443597469646131}\n",
            "accuracy=0.9603174328804016\n",
            "{'batch_size': 140.0, 'dropout_cnn_block_five': 0.6881969694213332, 'dropout_cnn_block_four': 0.61144202563375, 'dropout_cnn_block_one': 0.5766917300553475, 'dropout_cnn_block_three': 0.3931815152892527, 'dropout_cnn_block_two': 0.44048690350144915}\n",
            "accuracy=0.9095237851142883\n",
            "{'batch_size': 160.0, 'dropout_cnn_block_five': 0.4776497655882187, 'dropout_cnn_block_four': 0.49808277540937984, 'dropout_cnn_block_one': 0.42218367109962446, 'dropout_cnn_block_three': 0.40496463136070915, 'dropout_cnn_block_two': 0.4116367348281429}\n",
            "accuracy=0.9603174328804016\n",
            "{'batch_size': 150.0, 'dropout_cnn_block_five': 0.673823821037449, 'dropout_cnn_block_four': 0.5712850578683366, 'dropout_cnn_block_one': 0.38875902417459135, 'dropout_cnn_block_three': 0.49989131702292344, 'dropout_cnn_block_two': 0.30678733759656496}\n",
            "accuracy=0.9687075018882751\n",
            "{'batch_size': 100.0, 'dropout_cnn_block_five': 0.6336252022213595, 'dropout_cnn_block_four': 0.490207530125886, 'dropout_cnn_block_one': 0.3523376753044265, 'dropout_cnn_block_three': 0.489012511235529, 'dropout_cnn_block_two': 0.302653737552877}\n",
            "accuracy=0.9566893577575684\n",
            "{'batch_size': 160.0, 'dropout_cnn_block_five': 0.542492566245663, 'dropout_cnn_block_four': 0.3068828605469686, 'dropout_cnn_block_one': 0.3002396795025375, 'dropout_cnn_block_three': 0.47542314664921437, 'dropout_cnn_block_two': 0.3781660418103109}\n",
            "accuracy=0.9755101799964905\n",
            "{'batch_size': 160.0, 'dropout_cnn_block_five': 0.5380803558021815, 'dropout_cnn_block_four': 0.5689086713288845, 'dropout_cnn_block_one': 0.30342159679554376, 'dropout_cnn_block_three': 0.4699608702842472, 'dropout_cnn_block_two': 0.3192331565000546}\n",
            "accuracy=0.9501133561134338\n",
            "{'batch_size': 190.0, 'dropout_cnn_block_five': 0.6467002999765632, 'dropout_cnn_block_four': 0.5579676161126119, 'dropout_cnn_block_one': 0.30226002255820317, 'dropout_cnn_block_three': 0.47637506511390926, 'dropout_cnn_block_two': 0.3840904623969484}\n",
            "accuracy=0.9396825432777405\n",
            "{'batch_size': 160.0, 'dropout_cnn_block_five': 0.6520898593330199, 'dropout_cnn_block_four': 0.6160345116463369, 'dropout_cnn_block_one': 0.5831283289435812, 'dropout_cnn_block_three': 0.49604962437331995, 'dropout_cnn_block_two': 0.35449677137476515}\n",
            "accuracy=0.8882086277008057\n",
            "{'batch_size': 180.0, 'dropout_cnn_block_five': 0.5270907724111027, 'dropout_cnn_block_four': 0.47651025134799607, 'dropout_cnn_block_one': 0.5341659396938316, 'dropout_cnn_block_three': 0.47893238846440694, 'dropout_cnn_block_two': 0.3234983508097441}\n",
            "accuracy=0.9566893577575684\n",
            "{'batch_size': 140.0, 'dropout_cnn_block_five': 0.6121036093040941, 'dropout_cnn_block_four': 0.3097197562559936, 'dropout_cnn_block_one': 0.30086735677792464, 'dropout_cnn_block_three': 0.46310408724672036, 'dropout_cnn_block_two': 0.38342724788612426}\n",
            "accuracy=0.9530612230300903\n",
            "{'batch_size': 100.0, 'dropout_cnn_block_five': 0.44612573278834233, 'dropout_cnn_block_four': 0.6498423096514281, 'dropout_cnn_block_one': 0.39242930725096026, 'dropout_cnn_block_three': 0.4325080454493189, 'dropout_cnn_block_two': 0.4246811107145475}\n",
            "accuracy=0.981632649898529\n",
            "{'batch_size': 180.0, 'dropout_cnn_block_five': 0.4365508720580475, 'dropout_cnn_block_four': 0.6485446808544824, 'dropout_cnn_block_one': 0.39882931117759207, 'dropout_cnn_block_three': 0.4302050122973512, 'dropout_cnn_block_two': 0.4243030955343706}\n",
            "accuracy=0.9065759778022766\n",
            "100%|██████████| 30/30 [12:02<00:00, 24.08s/it, best loss: -0.981632649898529]\n"
          ],
          "name": "stdout"
        }
      ]
    },
    {
      "cell_type": "code",
      "metadata": {
        "id": "1PbBXiBTnxr4",
        "colab_type": "code",
        "colab": {}
      },
      "source": [
        ""
      ],
      "execution_count": 0,
      "outputs": []
    }
  ]
}